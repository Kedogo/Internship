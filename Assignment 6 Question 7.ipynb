{
 "cells": [
  {
   "cell_type": "code",
   "execution_count": 1,
   "id": "bb1b44e6",
   "metadata": {},
   "outputs": [
    {
     "name": "stdout",
     "output_type": "stream",
     "text": [
      "Failed to retrieve the webpage.\n"
     ]
    }
   ],
   "source": [
    "import requests\n",
    "from bs4 import BeautifulSoup\n",
    "import pandas as pd\n",
    "\n",
    "# Initialize lists to store scraped data\n",
    "titles = []\n",
    "ratings = []\n",
    "prices = []\n",
    "\n",
    "# Set the base URL for Amazon.in\n",
    "base_url = \"https://www.amazon.in\"\n",
    "\n",
    "# Set the search URL with the CPU filter\n",
    "search_url = \"https://www.amazon.in/s?k=Laptop&rh=n%3A1375424031%2Cp_n_feature_thirteen_browse-bin%3A12598163031&dc&qid=1631839631&rnid=12598141031&ref=sr_nr_p_n_feature_thirteen_browse-bin_17\"\n",
    "\n",
    "# Send a GET request to the search page\n",
    "response = requests.get(search_url, headers={\"User-Agent\": \"Mozilla/5.0\"})\n",
    "\n",
    "# Check if the request was successful\n",
    "if response.status_code == 200:\n",
    "    soup = BeautifulSoup(response.text, \"html.parser\")\n",
    "\n",
    "    # Find the laptop listings\n",
    "    listings = soup.find_all(\"div\", class_=\"s-result-item\")\n",
    "\n",
    "    for listing in listings[:10]:\n",
    "        # Get the title\n",
    "        title = listing.find(\"span\", class_=\"a-text-normal\").text.strip()\n",
    "\n",
    "        # Get the rating, if available\n",
    "        rating_element = listing.find(\"span\", class_=\"a-icon-alt\")\n",
    "        rating = rating_element.text.strip() if rating_element else \"Not available\"\n",
    "\n",
    "        # Get the price, if available\n",
    "        price_element = listing.find(\"span\", class_=\"a-offscreen\")\n",
    "        price = price_element.text.strip() if price_element else \"Not available\"\n",
    "\n",
    "        # Append the data to the respective lists\n",
    "        titles.append(title)\n",
    "        ratings.append(rating)\n",
    "        prices.append(price)\n",
    "\n",
    "    # Create a DataFrame from the scraped data\n",
    "    laptops_data = pd.DataFrame({\n",
    "        \"Title\": titles,\n",
    "        \"Ratings\": ratings,\n",
    "        \"Price\": prices\n",
    "    })\n",
    "\n",
    "    # Display the DataFrame\n",
    "    print(laptops_data)\n",
    "\n",
    "else:\n",
    "    print(\"Failed to retrieve the webpage.\")\n",
    "\n"
   ]
  },
  {
   "cell_type": "code",
   "execution_count": null,
   "id": "3b81a6f2",
   "metadata": {},
   "outputs": [],
   "source": []
  }
 ],
 "metadata": {
  "kernelspec": {
   "display_name": "Python 3 (ipykernel)",
   "language": "python",
   "name": "python3"
  },
  "language_info": {
   "codemirror_mode": {
    "name": "ipython",
    "version": 3
   },
   "file_extension": ".py",
   "mimetype": "text/x-python",
   "name": "python",
   "nbconvert_exporter": "python",
   "pygments_lexer": "ipython3",
   "version": "3.10.9"
  }
 },
 "nbformat": 4,
 "nbformat_minor": 5
}
