{
 "cells": [
  {
   "cell_type": "code",
   "execution_count": 4,
   "id": "b3de28f0",
   "metadata": {},
   "outputs": [
    {
     "ename": "IndentationError",
     "evalue": "unindent does not match any outer indentation level (<tokenize>, line 7)",
     "output_type": "error",
     "traceback": [
      "\u001b[1;36m  File \u001b[1;32m<tokenize>:7\u001b[1;36m\u001b[0m\n\u001b[1;33m    date_pattern = r'\\d{1,2}-\\d{1,2}-\\d{4}'\u001b[0m\n\u001b[1;37m    ^\u001b[0m\n\u001b[1;31mIndentationError\u001b[0m\u001b[1;31m:\u001b[0m unindent does not match any outer indentation level\n"
     ]
    }
   ],
   "source": [
    "import re\n",
    "\n",
    "#Read text from a file\n",
    "with open(\"textfile.txt\",\"r\") as file\n",
    "     text = file.read()\n",
    "    \n",
    "    date_pattern = r'\\d{1,2}-\\d{1,2}-\\d{4}'\n",
    "    dates = re.findall(date_pattern, text)\n",
    "    print(dates)"
   ]
  },
  {
   "cell_type": "code",
   "execution_count": null,
   "id": "8c121901",
   "metadata": {},
   "outputs": [],
   "source": []
  }
 ],
 "metadata": {
  "kernelspec": {
   "display_name": "Python 3 (ipykernel)",
   "language": "python",
   "name": "python3"
  },
  "language_info": {
   "codemirror_mode": {
    "name": "ipython",
    "version": 3
   },
   "file_extension": ".py",
   "mimetype": "text/x-python",
   "name": "python",
   "nbconvert_exporter": "python",
   "pygments_lexer": "ipython3",
   "version": "3.10.9"
  }
 },
 "nbformat": 4,
 "nbformat_minor": 5
}
