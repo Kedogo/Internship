{
 "cells": [
  {
   "cell_type": "code",
   "execution_count": 1,
   "id": "ccb72b18",
   "metadata": {},
   "outputs": [
    {
     "ename": "AttributeError",
     "evalue": "'NoneType' object has no attribute 'text'",
     "output_type": "error",
     "traceback": [
      "\u001b[1;31m---------------------------------------------------------------------------\u001b[0m",
      "\u001b[1;31mAttributeError\u001b[0m                            Traceback (most recent call last)",
      "Cell \u001b[1;32mIn[1], line 33\u001b[0m\n\u001b[0;32m     29\u001b[0m listings \u001b[38;5;241m=\u001b[39m soup\u001b[38;5;241m.\u001b[39mfind_all(\u001b[38;5;124m\"\u001b[39m\u001b[38;5;124mdiv\u001b[39m\u001b[38;5;124m\"\u001b[39m, class_\u001b[38;5;241m=\u001b[39m\u001b[38;5;124m\"\u001b[39m\u001b[38;5;124m_1AtVbE\u001b[39m\u001b[38;5;124m\"\u001b[39m)\n\u001b[0;32m     31\u001b[0m \u001b[38;5;28;01mfor\u001b[39;00m listing \u001b[38;5;129;01min\u001b[39;00m listings:\n\u001b[0;32m     32\u001b[0m     \u001b[38;5;66;03m# Get the brand\u001b[39;00m\n\u001b[1;32m---> 33\u001b[0m     brand \u001b[38;5;241m=\u001b[39m \u001b[43mlisting\u001b[49m\u001b[38;5;241;43m.\u001b[39;49m\u001b[43mfind\u001b[49m\u001b[43m(\u001b[49m\u001b[38;5;124;43m\"\u001b[39;49m\u001b[38;5;124;43mdiv\u001b[39;49m\u001b[38;5;124;43m\"\u001b[39;49m\u001b[43m,\u001b[49m\u001b[43m \u001b[49m\u001b[43mclass_\u001b[49m\u001b[38;5;241;43m=\u001b[39;49m\u001b[38;5;124;43m\"\u001b[39;49m\u001b[38;5;124;43m_2WkVRV\u001b[39;49m\u001b[38;5;124;43m\"\u001b[39;49m\u001b[43m)\u001b[49m\u001b[38;5;241;43m.\u001b[39;49m\u001b[43mtext\u001b[49m\u001b[38;5;241m.\u001b[39mstrip()\n\u001b[0;32m     35\u001b[0m     \u001b[38;5;66;03m# Get the product description\u001b[39;00m\n\u001b[0;32m     36\u001b[0m     product_description \u001b[38;5;241m=\u001b[39m listing\u001b[38;5;241m.\u001b[39mfind(\u001b[38;5;124m\"\u001b[39m\u001b[38;5;124ma\u001b[39m\u001b[38;5;124m\"\u001b[39m, class_\u001b[38;5;241m=\u001b[39m\u001b[38;5;124m\"\u001b[39m\u001b[38;5;124mIRpwTa\u001b[39m\u001b[38;5;124m\"\u001b[39m)\u001b[38;5;241m.\u001b[39mtext\u001b[38;5;241m.\u001b[39mstrip()\n",
      "\u001b[1;31mAttributeError\u001b[0m: 'NoneType' object has no attribute 'text'"
     ]
    }
   ],
   "source": [
    "import requests\n",
    "from bs4 import BeautifulSoup\n",
    "import pandas as pd\n",
    "\n",
    "# Initialize lists to store scraped data\n",
    "brands = []\n",
    "product_descriptions = []\n",
    "prices = []\n",
    "\n",
    "# Set the base URL\n",
    "base_url = \"https://www.flipkart.com\"\n",
    "\n",
    "# Set the initial search URL\n",
    "search_url = base_url + \"/search?q=sunglasses\"\n",
    "\n",
    "# Number of sunglasses to scrape\n",
    "sunglasses_to_scrape = 100\n",
    "sunglasses_scraped = 0\n",
    "\n",
    "while sunglasses_scraped < sunglasses_to_scrape:\n",
    "    # Send a GET request to the search page\n",
    "    response = requests.get(search_url)\n",
    "    \n",
    "    # Check if the request was successful\n",
    "    if response.status_code == 200:\n",
    "        soup = BeautifulSoup(response.text, \"html.parser\")\n",
    "        \n",
    "        # Find the sunglasses listings\n",
    "        listings = soup.find_all(\"div\", class_=\"_1AtVbE\")\n",
    "        \n",
    "        for listing in listings:\n",
    "            # Get the brand\n",
    "            brand = listing.find(\"div\", class_=\"_2WkVRV\").text.strip()\n",
    "            \n",
    "            # Get the product description\n",
    "            product_description = listing.find(\"a\", class_=\"IRpwTa\").text.strip()\n",
    "            \n",
    "            # Get the price\n",
    "            price = listing.find(\"div\", class_=\"_30jeq3\").text.strip()\n",
    "            \n",
    "            # Append the data to the respective lists\n",
    "            brands.append(brand)\n",
    "            product_descriptions.append(product_description)\n",
    "            prices.append(price)\n",
    "            \n",
    "            sunglasses_scraped += 1\n",
    "            \n",
    "            # Check if we have scraped enough data\n",
    "            if sunglasses_scraped >= sunglasses_to_scrape:\n",
    "                break\n",
    "        \n",
    "        # Check if there's a \"Next\" button for the next page of results\n",
    "        next_button = soup.find(\"a\", class_=\"_1LKTO3\")\n",
    "        if next_button:\n",
    "            search_url = base_url + next_button[\"href\"]\n",
    "        else:\n",
    "            break\n",
    "    else:\n",
    "        print(\"Failed to retrieve the webpage.\")\n",
    "        break\n",
    "\n",
    "# Create a DataFrame from the scraped data\n",
    "sunglasses_data = pd.DataFrame({\n",
    "    \"Brand\": brands,\n",
    "    \"Product Description\": product_descriptions,\n",
    "    \"Price\": prices\n",
    "})\n",
    "\n",
    "# Display the DataFrame\n",
    "print(sunglasses_data)\n",
    "\n",
    "# Optionally, you can save the data to a CSV file\n",
    "sunglasses_data.to_csv(\"sunglasses_data.csv\", index=False)\n",
    "\n"
   ]
  },
  {
   "cell_type": "code",
   "execution_count": null,
   "id": "b2a689b1",
   "metadata": {},
   "outputs": [],
   "source": []
  }
 ],
 "metadata": {
  "kernelspec": {
   "display_name": "Python 3 (ipykernel)",
   "language": "python",
   "name": "python3"
  },
  "language_info": {
   "codemirror_mode": {
    "name": "ipython",
    "version": 3
   },
   "file_extension": ".py",
   "mimetype": "text/x-python",
   "name": "python",
   "nbconvert_exporter": "python",
   "pygments_lexer": "ipython3",
   "version": "3.10.9"
  }
 },
 "nbformat": 4,
 "nbformat_minor": 5
}
