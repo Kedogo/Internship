{
 "cells": [
  {
   "cell_type": "code",
   "execution_count": 2,
   "id": "609e89d1",
   "metadata": {},
   "outputs": [
    {
     "ename": "SyntaxError",
     "evalue": "unterminated string literal (detected at line 12) (2064485934.py, line 12)",
     "output_type": "error",
     "traceback": [
      "\u001b[1;36m  Cell \u001b[1;32mIn[2], line 12\u001b[1;36m\u001b[0m\n\u001b[1;33m    print(f\"'{search_word}' not found)\u001b[0m\n\u001b[1;37m          ^\u001b[0m\n\u001b[1;31mSyntaxError\u001b[0m\u001b[1;31m:\u001b[0m unterminated string literal (detected at line 12)\n"
     ]
    }
   ],
   "source": [
    "import re\n",
    "\n",
    "text = \"The quick brown fox jumped over the lazy dog\"\n",
    "search_word = 'fox'\n",
    "    \n",
    "match = re.search(search_word,text)\n",
    "if match:\n",
    "    start = match.start()\n",
    "    end = match.end()\n",
    "    print(f\"'{search_word}' found at position {start}-{end}\")\n",
    "else:\n",
    "    print(f\"'{search_word}' not found)"
   ]
  },
  {
   "cell_type": "code",
   "execution_count": null,
   "id": "b9d07a9b",
   "metadata": {},
   "outputs": [],
   "source": []
  }
 ],
 "metadata": {
  "kernelspec": {
   "display_name": "Python 3 (ipykernel)",
   "language": "python",
   "name": "python3"
  },
  "language_info": {
   "codemirror_mode": {
    "name": "ipython",
    "version": 3
   },
   "file_extension": ".py",
   "mimetype": "text/x-python",
   "name": "python",
   "nbconvert_exporter": "python",
   "pygments_lexer": "ipython3",
   "version": "3.10.9"
  }
 },
 "nbformat": 4,
 "nbformat_minor": 5
}
