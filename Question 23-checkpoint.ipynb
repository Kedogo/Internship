{
 "cells": [
  {
   "cell_type": "code",
   "execution_count": 1,
   "id": "531c481f",
   "metadata": {},
   "outputs": [
    {
     "name": "stdout",
     "output_type": "stream",
     "text": [
      "RegularExpressionsIsAnImportantTopicInPython\n"
     ]
    }
   ],
   "source": [
    "import re\n",
    "\n",
    "def insert_space_before_capital(text):\n",
    "    pattern = re.compile(r'([a-z])([A-Z])1')\n",
    "    return pattern.sub(r'\\1\\2',text)\n",
    "text = \"RegularExpressionsIsAnImportantTopicInPython\"\n",
    "result = insert_space_before_capital(text)\n",
    "print(result)"
   ]
  },
  {
   "cell_type": "code",
   "execution_count": null,
   "id": "29e141e6",
   "metadata": {},
   "outputs": [],
   "source": []
  }
 ],
 "metadata": {
  "kernelspec": {
   "display_name": "Python 3 (ipykernel)",
   "language": "python",
   "name": "python3"
  },
  "language_info": {
   "codemirror_mode": {
    "name": "ipython",
    "version": 3
   },
   "file_extension": ".py",
   "mimetype": "text/x-python",
   "name": "python",
   "nbconvert_exporter": "python",
   "pygments_lexer": "ipython3",
   "version": "3.10.9"
  }
 },
 "nbformat": 4,
 "nbformat_minor": 5
}
