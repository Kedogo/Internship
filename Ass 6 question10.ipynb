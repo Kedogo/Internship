{
 "cells": [
  {
   "cell_type": "code",
   "execution_count": 1,
   "id": "d57bc0eb",
   "metadata": {},
   "outputs": [
    {
     "name": "stdout",
     "output_type": "stream",
     "text": [
      "Empty DataFrame\n",
      "Columns: [Car Name, Price]\n",
      "Index: []\n"
     ]
    }
   ],
   "source": [
    "import requests\n",
    "from bs4 import BeautifulSoup\n",
    "import pandas as pd\n",
    "\n",
    "# Initialize lists to store scraped data\n",
    "car_names = []\n",
    "prices = []\n",
    "\n",
    "# Set the URL for the Motor1 website\n",
    "url = \"https://www.motor1.com/\"\n",
    "\n",
    "# Send a GET request to the website\n",
    "response = requests.get(url)\n",
    "\n",
    "# Check if the request was successful\n",
    "if response.status_code == 200:\n",
    "    soup = BeautifulSoup(response.text, \"html.parser\")\n",
    "\n",
    "    # Find the search bar and type \"50 most expensive cars\"\n",
    "    search_bar = soup.find(\"input\", class_=\"search-box-input\")\n",
    "    if search_bar:\n",
    "        search_bar[\"value\"] = \"50 most expensive cars\"\n",
    "\n",
    "        # Find and click the search button\n",
    "        search_button = soup.find(\"button\", class_=\"search-box-button\")\n",
    "        if search_button:\n",
    "            search_button.click()\n",
    "\n",
    "            # Wait for the new page to load\n",
    "            response = requests.get(url)\n",
    "            soup = BeautifulSoup(response.text, \"html.parser\")\n",
    "\n",
    "            # Find the link for \"50 Most Expensive Cars in the World\" and click it\n",
    "            link = soup.find(\"a\", text=\"50 Most Expensive Cars in the World\")\n",
    "            if link:\n",
    "                link_url = link[\"href\"]\n",
    "                response = requests.get(link_url)\n",
    "                soup = BeautifulSoup(response.text, \"html.parser\")\n",
    "\n",
    "                # Find and extract the data for each car\n",
    "                car_data = soup.find_all(\"div\", class_=\"slick-slide slick-active\")\n",
    "                for data in car_data:\n",
    "                    car_name = data.find(\"h3\").text.strip()\n",
    "                    price = data.find(\"span\", class_=\"vehicle-specs__price\").text.strip()\n",
    "\n",
    "                    car_names.append(car_name)\n",
    "                    prices.append(price)\n",
    "\n",
    "# Create a DataFrame from the scraped data\n",
    "cars_data = pd.DataFrame({\n",
    "    \"Car Name\": car_names,\n",
    "    \"Price\": prices\n",
    "})\n",
    "\n",
    "# Display the DataFrame\n",
    "print(cars_data)\n"
   ]
  },
  {
   "cell_type": "code",
   "execution_count": null,
   "id": "ac8fc8a6",
   "metadata": {},
   "outputs": [],
   "source": []
  }
 ],
 "metadata": {
  "kernelspec": {
   "display_name": "Python 3 (ipykernel)",
   "language": "python",
   "name": "python3"
  },
  "language_info": {
   "codemirror_mode": {
    "name": "ipython",
    "version": 3
   },
   "file_extension": ".py",
   "mimetype": "text/x-python",
   "name": "python",
   "nbconvert_exporter": "python",
   "pygments_lexer": "ipython3",
   "version": "3.10.9"
  }
 },
 "nbformat": 4,
 "nbformat_minor": 5
}
