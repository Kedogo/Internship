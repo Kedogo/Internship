{
 "cells": [
  {
   "cell_type": "code",
   "execution_count": 1,
   "id": "3144d833",
   "metadata": {},
   "outputs": [
    {
     "name": "stdout",
     "output_type": "stream",
     "text": [
      "'fox' found\n",
      "'dog' found\n",
      "'horse' not found\n"
     ]
    }
   ],
   "source": [
    "import re\n",
    "\n",
    "text = \"The quick brown fox jumps over the lazy dog.\"\n",
    "searched_words = ['fox', 'dog','horse']\n",
    "\n",
    "for word in searched_words:\n",
    "    if re.search(word, text):\n",
    "        print(f\"'{word}' found\")\n",
    "    else:\n",
    "        print(f\"'{word}' not found\")"
   ]
  },
  {
   "cell_type": "code",
   "execution_count": null,
   "id": "89e258ab",
   "metadata": {},
   "outputs": [],
   "source": []
  }
 ],
 "metadata": {
  "kernelspec": {
   "display_name": "Python 3 (ipykernel)",
   "language": "python",
   "name": "python3"
  },
  "language_info": {
   "codemirror_mode": {
    "name": "ipython",
    "version": 3
   },
   "file_extension": ".py",
   "mimetype": "text/x-python",
   "name": "python",
   "nbconvert_exporter": "python",
   "pygments_lexer": "ipython3",
   "version": "3.10.9"
  }
 },
 "nbformat": 4,
 "nbformat_minor": 5
}
