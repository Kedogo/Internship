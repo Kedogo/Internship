{
 "cells": [
  {
   "cell_type": "code",
   "execution_count": 1,
   "id": "10cf550b",
   "metadata": {},
   "outputs": [
    {
     "ename": "ModuleNotFoundError",
     "evalue": "No module named 'selenium'",
     "output_type": "error",
     "traceback": [
      "\u001b[1;31m---------------------------------------------------------------------------\u001b[0m",
      "\u001b[1;31mModuleNotFoundError\u001b[0m                       Traceback (most recent call last)",
      "Cell \u001b[1;32mIn[1], line 2\u001b[0m\n\u001b[0;32m      1\u001b[0m \u001b[38;5;28;01mimport\u001b[39;00m \u001b[38;5;21;01mtime\u001b[39;00m\n\u001b[1;32m----> 2\u001b[0m \u001b[38;5;28;01mfrom\u001b[39;00m \u001b[38;5;21;01mselenium\u001b[39;00m \u001b[38;5;28;01mimport\u001b[39;00m webdriver\n\u001b[0;32m      3\u001b[0m \u001b[38;5;28;01mfrom\u001b[39;00m \u001b[38;5;21;01mselenium\u001b[39;00m\u001b[38;5;21;01m.\u001b[39;00m\u001b[38;5;21;01mwebdriver\u001b[39;00m\u001b[38;5;21;01m.\u001b[39;00m\u001b[38;5;21;01mcommon\u001b[39;00m\u001b[38;5;21;01m.\u001b[39;00m\u001b[38;5;21;01mby\u001b[39;00m \u001b[38;5;28;01mimport\u001b[39;00m By\n\u001b[0;32m      4\u001b[0m \u001b[38;5;28;01mfrom\u001b[39;00m \u001b[38;5;21;01mselenium\u001b[39;00m\u001b[38;5;21;01m.\u001b[39;00m\u001b[38;5;21;01mwebdriver\u001b[39;00m\u001b[38;5;21;01m.\u001b[39;00m\u001b[38;5;21;01mcommon\u001b[39;00m\u001b[38;5;21;01m.\u001b[39;00m\u001b[38;5;21;01mkeys\u001b[39;00m \u001b[38;5;28;01mimport\u001b[39;00m Keys\n",
      "\u001b[1;31mModuleNotFoundError\u001b[0m: No module named 'selenium'"
     ]
    }
   ],
   "source": [
    "import time\n",
    "from selenium import webdriver\n",
    "from selenium.webdriver.common.by import By\n",
    "from selenium.webdriver.common.keys import Keys\n",
    "from bs4 import BeautifulSoup\n",
    "\n",
    "# Create a webdriver instance (you should specify the path to your WebDriver)\n",
    "driver = webdriver.Chrome(executable_path='/path/to/chromedriver')\n",
    "\n",
    "# Open the azquotes.com website\n",
    "driver.get(\"https://www.azquotes.com/\")\n",
    "\n",
    "# Click on the \"Top Quotes\" link\n",
    "top_quotes_link = driver.find_element(By.LINK_TEXT, \"Top Quotes\")\n",
    "top_quotes_link.click()\n",
    "\n",
    "# Initialize lists to store scraped data\n",
    "quotes = []\n",
    "authors = []\n",
    "types = []\n",
    "\n",
    "# Loop until we have scraped 1000 quotes (or more)\n",
    "while len(quotes) < 1000:\n",
    "    # Scroll down to load more quotes\n",
    "    driver.execute_script(\"window.scrollTo(0, document.body.scrollHeight);\")\n",
    "    time.sleep(2)  # Wait for the page to load\n",
    "    \n",
    "    # Parse the page source with BeautifulSoup\n",
    "    soup = BeautifulSoup(driver.page_source, 'html.parser')\n",
    "    \n",
    "    # Find the quote containers\n",
    "    quote_containers = soup.find_all(\"div\", class_=\"wrap-block\")\n",
    "\n",
    "    for container in quote_containers:\n",
    "        # Get the quote text\n",
    "        quote = container.find(\"a\", class_=\"title\").text.strip()\n",
    "\n",
    "        # Get the author\n",
    "        author = container.find(\"a\", class_=\"author\").text.strip()\n",
    "\n",
    "        # Get the type of quote\n",
    "        type_of_quote = container.find(\"a\", class_=\"tag\").text.strip()\n",
    "\n",
    "        # Append the data to the respective lists\n",
    "        quotes.append(quote)\n",
    "        authors.append(author)\n",
    "        types.append(type_of_quote)\n",
    "\n",
    "    # Click the \"Load More\" button to load more quotes\n",
    "    load_more_button = driver.find_element(By.XPATH, \"//button[contains(text(),'Load More')]\")\n",
    "    load_more_button.click()\n",
    "    time.sleep(2)  # Wait for more quotes to load\n",
    "\n",
    "# Create a DataFrame from the scraped data\n",
    "import pandas as pd\n",
    "\n",
    "quotes_data = pd.DataFrame({\n",
    "    \"Quote\": quotes[:1000],  # Take the first 1000 quotes\n",
    "    \"Author\": authors[:1000],\n",
    "    \"Type of Quote\": types[:1000]\n",
    "})\n",
    "\n",
    "# Display the DataFrame\n",
    "print(quotes_data)\n",
    "\n",
    "# Close the webdriver\n",
    "driver.quit()\n"
   ]
  },
  {
   "cell_type": "code",
   "execution_count": null,
   "id": "872c8bc2",
   "metadata": {},
   "outputs": [],
   "source": []
  }
 ],
 "metadata": {
  "kernelspec": {
   "display_name": "Python 3 (ipykernel)",
   "language": "python",
   "name": "python3"
  },
  "language_info": {
   "codemirror_mode": {
    "name": "ipython",
    "version": 3
   },
   "file_extension": ".py",
   "mimetype": "text/x-python",
   "name": "python",
   "nbconvert_exporter": "python",
   "pygments_lexer": "ipython3",
   "version": "3.10.9"
  }
 },
 "nbformat": 4,
 "nbformat_minor": 5
}
