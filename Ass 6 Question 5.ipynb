{
 "cells": [
  {
   "cell_type": "code",
   "execution_count": 1,
   "id": "186e399f",
   "metadata": {},
   "outputs": [
    {
     "name": "stdout",
     "output_type": "stream",
     "text": [
      "Failed to retrieve the webpage.\n"
     ]
    },
    {
     "ename": "NameError",
     "evalue": "name 'reviews_data' is not defined",
     "output_type": "error",
     "traceback": [
      "\u001b[1;31m---------------------------------------------------------------------------\u001b[0m",
      "\u001b[1;31mNameError\u001b[0m                                 Traceback (most recent call last)",
      "Cell \u001b[1;32mIn[1], line 52\u001b[0m\n\u001b[0;32m     49\u001b[0m     \u001b[38;5;28mprint\u001b[39m(\u001b[38;5;124m\"\u001b[39m\u001b[38;5;124mFailed to retrieve the webpage.\u001b[39m\u001b[38;5;124m\"\u001b[39m)\n\u001b[0;32m     51\u001b[0m \u001b[38;5;66;03m# Optionally, you can save the data to a CSV file\u001b[39;00m\n\u001b[1;32m---> 52\u001b[0m \u001b[43mreviews_data\u001b[49m\u001b[38;5;241m.\u001b[39mto_csv(\u001b[38;5;124m\"\u001b[39m\u001b[38;5;124miphone11_reviews.csv\u001b[39m\u001b[38;5;124m\"\u001b[39m, index\u001b[38;5;241m=\u001b[39m\u001b[38;5;28;01mFalse\u001b[39;00m)\n",
      "\u001b[1;31mNameError\u001b[0m: name 'reviews_data' is not defined"
     ]
    }
   ],
   "source": [
    "import requests\n",
    "from bs4 import BeautifulSoup\n",
    "import pandas as pd\n",
    "\n",
    "# Initialize lists to store scraped data\n",
    "ratings = []\n",
    "review_summaries = []\n",
    "full_reviews = []\n",
    "\n",
    "# Set the URL for the iPhone 11 reviews page\n",
    "url = \"https://www.flipkart.com/apple-iphone-11-black-64-gb/productreviews/itm4e5041ba101fd?pid=MOBFWQ6BXGJCEYNY&lid=LSTMOBFWQ6BXGJCEYNYZXSHRJ&marketplace=FLIPKART\"\n",
    "\n",
    "# Send a GET request to the reviews page\n",
    "response = requests.get(url)\n",
    "\n",
    "# Check if the request was successful\n",
    "if response.status_code == 200:\n",
    "    soup = BeautifulSoup(response.text, \"html.parser\")\n",
    "    \n",
    "    # Find the review containers\n",
    "    review_containers = soup.find_all(\"div\", class_=\"_27M-vq\")\n",
    "    \n",
    "    for review in review_containers[:100]:\n",
    "        # Get the rating\n",
    "        rating = review.find(\"div\", class_=\"hGSR34\").text.strip()\n",
    "        \n",
    "        # Get the review summary\n",
    "        review_summary = review.find(\"p\", class_=\"_2-N8zT\").text.strip()\n",
    "        \n",
    "        # Get the full review\n",
    "        full_review = review.find(\"div\", class_=\"qwjRop\").text.strip()\n",
    "        \n",
    "        # Append the data to the respective lists\n",
    "        ratings.append(rating)\n",
    "        review_summaries.append(review_summary)\n",
    "        full_reviews.append(full_review)\n",
    "    \n",
    "    # Create a DataFrame from the scraped data\n",
    "    reviews_data = pd.DataFrame({\n",
    "        \"Rating\": ratings,\n",
    "        \"Review Summary\": review_summaries,\n",
    "        \"Full Review\": full_reviews\n",
    "    })\n",
    "    \n",
    "    # Display the DataFrame\n",
    "    print(reviews_data)\n",
    "    \n",
    "else:\n",
    "    print(\"Failed to retrieve the webpage.\")\n",
    "\n",
    "# Optionally, you can save the data to a CSV file\n",
    "reviews_data.to_csv(\"iphone11_reviews.csv\", index=False)\n"
   ]
  },
  {
   "cell_type": "code",
   "execution_count": null,
   "id": "15ee6dfa",
   "metadata": {},
   "outputs": [],
   "source": []
  }
 ],
 "metadata": {
  "kernelspec": {
   "display_name": "Python 3 (ipykernel)",
   "language": "python",
   "name": "python3"
  },
  "language_info": {
   "codemirror_mode": {
    "name": "ipython",
    "version": 3
   },
   "file_extension": ".py",
   "mimetype": "text/x-python",
   "name": "python",
   "nbconvert_exporter": "python",
   "pygments_lexer": "ipython3",
   "version": "3.10.9"
  }
 },
 "nbformat": 4,
 "nbformat_minor": 5
}
