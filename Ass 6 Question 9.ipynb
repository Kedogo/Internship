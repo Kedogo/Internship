{
 "cells": [
  {
   "cell_type": "code",
   "execution_count": 2,
   "id": "e5266f2c",
   "metadata": {},
   "outputs": [
    {
     "name": "stdout",
     "output_type": "stream",
     "text": [
      "Empty DataFrame\n",
      "Columns: [Name, Born-Dead, Term of Office, Remarks]\n",
      "Index: []\n"
     ]
    }
   ],
   "source": [
    "import requests\n",
    "from bs4 import BeautifulSoup\n",
    "import pandas as pd\n",
    "\n",
    "# Initialize lists to store scraped data\n",
    "names = []\n",
    "born_dead = []\n",
    "term_of_office = []\n",
    "remarks = []\n",
    "\n",
    "# Set the URL for the Jagran Josh website\n",
    "url = \"https://www.jagranjosh.com/\"\n",
    "\n",
    "# Send a GET request to the website\n",
    "response = requests.get(url)\n",
    "\n",
    "# Check if the request was successful\n",
    "if response.status_code == 200:\n",
    "    soup = BeautifulSoup(response.text, \"html.parser\")\n",
    "\n",
    "    # Find the GK option and click it\n",
    "    gk_option = soup.find(\"a\", text=\"GK\")\n",
    "    if gk_option:\n",
    "        gk_url = gk_option[\"href\"]\n",
    "        gk_response = requests.get(gk_url)\n",
    "        if gk_response.status_code == 200:\n",
    "            gk_soup = BeautifulSoup(gk_response.text, \"html.parser\")\n",
    "\n",
    "            # Find the link for \"List of all Prime Ministers of India\" and click it\n",
    "            prime_ministers_link = gk_soup.find(\"a\", text=\"List of all Prime Ministers of India\")\n",
    "            if prime_ministers_link:\n",
    "                prime_ministers_url = prime_ministers_link[\"href\"]\n",
    "                prime_ministers_response = requests.get(prime_ministers_url)\n",
    "                if prime_ministers_response.status_code == 200:\n",
    "                    prime_ministers_soup = BeautifulSoup(prime_ministers_response.text, \"html.parser\")\n",
    "\n",
    "                    # Find and extract the data for each Prime Minister\n",
    "                    prime_ministers_data = prime_ministers_soup.find_all(\"div\", class_=\"table-responsive\")\n",
    "                    for data in prime_ministers_data:\n",
    "                        rows = data.find_all(\"tr\")[1:]  # Skip the header row\n",
    "                        for row in rows:\n",
    "                            columns = row.find_all(\"td\")\n",
    "                            if len(columns) >= 4:\n",
    "                                name = columns[0].text.strip()\n",
    "                                bd = columns[1].text.strip()\n",
    "                                term = columns[2].text.strip()\n",
    "                                remark = columns[3].text.strip()\n",
    "\n",
    "                                names.append(name)\n",
    "                                born_dead.append(bd)\n",
    "                                term_of_office.append(term)\n",
    "                                remarks.append(remark)\n",
    "\n",
    "# Create a DataFrame from the scraped data\n",
    "prime_ministers_data = pd.DataFrame({\n",
    "    \"Name\": names,\n",
    "    \"Born-Dead\": born_dead,\n",
    "    \"Term of Office\": term_of_office,\n",
    "    \"Remarks\": remarks\n",
    "})\n",
    "\n",
    "# Display the DataFrame\n",
    "print(prime_ministers_data)\n"
   ]
  },
  {
   "cell_type": "code",
   "execution_count": null,
   "id": "3ea0c196",
   "metadata": {},
   "outputs": [],
   "source": []
  }
 ],
 "metadata": {
  "kernelspec": {
   "display_name": "Python 3 (ipykernel)",
   "language": "python",
   "name": "python3"
  },
  "language_info": {
   "codemirror_mode": {
    "name": "ipython",
    "version": 3
   },
   "file_extension": ".py",
   "mimetype": "text/x-python",
   "name": "python",
   "nbconvert_exporter": "python",
   "pygments_lexer": "ipython3",
   "version": "3.10.9"
  }
 },
 "nbformat": 4,
 "nbformat_minor": 5
}
